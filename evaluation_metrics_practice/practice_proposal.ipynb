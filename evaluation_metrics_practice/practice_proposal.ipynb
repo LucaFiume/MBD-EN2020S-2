{
 "cells": [
  {
   "cell_type": "code",
   "execution_count": 5,
   "metadata": {},
   "outputs": [
    {
     "data": {
      "text/html": [
       "<style>.container { width:100% !important; }</style>"
      ],
      "text/plain": [
       "<IPython.core.display.HTML object>"
      ]
     },
     "metadata": {},
     "output_type": "display_data"
    },
    {
     "data": {
      "text/html": [
       "<style>.rendered_html { font-size: 16px; }</style>"
      ],
      "text/plain": [
       "<IPython.core.display.HTML object>"
      ]
     },
     "metadata": {},
     "output_type": "display_data"
    }
   ],
   "source": [
    "from IPython.core.display import display, HTML\n",
    "\n",
    "display(HTML(\"<style>.container { width:100% !important; }</style>\")) # Increase cell width\n",
    "display(HTML(\"<style>.rendered_html { font-size: 16px; }</style>\")) # Increase font size\n",
    "\n",
    "# Larger figures\n",
    "\n",
    "import matplotlib\n",
    "import matplotlib.pyplot as plt\n",
    "%matplotlib inline  \n",
    "\n",
    "import pandas as pd\n",
    "import numpy as np\n"
   ]
  },
  {
   "cell_type": "markdown",
   "metadata": {},
   "source": [
    "# Introduction\n",
    "\n",
    "\n",
    "This document is the guideline to the PRACTICE #2. The goals of this practice are:\n",
    "\n",
    "  1. Test different evaluation methods over probabilistic and classification models.\n",
    "  2. Experiment with model selection, namely by applying cross-validation, as main technique.\n",
    "  \n",
    "We'll use the Titanic dataset, that has been polished and simplified for you. You can download the dataset from Kaggle: https://www.kaggle.com/c/titanic.\n",
    "\n",
    "This one has been widely used in many competitions, so it will easy to find solutions if you get stuck with it. Good luck!"
   ]
  },
  {
   "cell_type": "markdown",
   "metadata": {},
   "source": [
    "# Data Loading and Preparing\n",
    "\n",
    "Our sample dataset: passengers of the RMS Titanic. We will use an open data set with data on the passengers aboard the infamous doomed sea voyage of 1912. We will experiment with logistic regression to predict whether a given passenger would have survived this disaster. The file containing the dataset is `titanic.csv` and should be read using the simple command: "
   ]
  },
  {
   "cell_type": "code",
   "execution_count": 6,
   "metadata": {},
   "outputs": [
    {
     "data": {
      "text/plain": [
       "pclass      float64\n",
       "survived    float64\n",
       "sex          object\n",
       "age          object\n",
       "sibsp       float64\n",
       "parch       float64\n",
       "ticket       object\n",
       "fare         object\n",
       "cabin        object\n",
       "embarked     object\n",
       "dtype: object"
      ]
     },
     "execution_count": 6,
     "metadata": {},
     "output_type": "execute_result"
    }
   ],
   "source": [
    "# Note that you should modify the filepath according to where you have them\n",
    "\n",
    "df = pd.read_csv(\"data/titanic.csv\", sep=\";\")\n",
    "df.dtypes"
   ]
  },
  {
   "cell_type": "markdown",
   "metadata": {},
   "source": [
    "Some formats are not correct, let's fix that"
   ]
  },
  {
   "cell_type": "code",
   "execution_count": 7,
   "metadata": {},
   "outputs": [
    {
     "data": {
      "text/plain": [
       "pclass      float64\n",
       "survived    float64\n",
       "sex         float64\n",
       "age         float64\n",
       "sibsp       float64\n",
       "parch       float64\n",
       "ticket       object\n",
       "fare        float64\n",
       "cabin        object\n",
       "embarked    float64\n",
       "dtype: object"
      ]
     },
     "execution_count": 7,
     "metadata": {},
     "output_type": "execute_result"
    }
   ],
   "source": [
    "df['sex'].replace(['female','male'],[0,1],inplace=True)\n",
    "df['embarked'].replace(['Q','S', 'C'],[0,1,2],inplace=True)\n",
    "df['age'] = df.age.apply(lambda x: str(x).replace(',','.')).astype('float64') # The numbers include commas instead of dots (26,4 instead of 26.4). We have to change it to allow its conversion to float\n",
    "df['fare'] = df.fare.apply(lambda x: str(x).replace(',','.')).astype('float64') # The nummbers include commas instead of dots (26,4 instead of 26.4). We have to change it to allow its conversion to float\n",
    "\n",
    "df.dtypes"
   ]
  },
  {
   "cell_type": "markdown",
   "metadata": {},
   "source": [
    "The column heading variables have the following meanings:\n",
    "\n",
    "  * survival: Survival (0 = no; 1 = yes)\n",
    "  * pclass: Passenger class (1 = first; 2 = second; 3 = third)\n",
    "  * name: Name\n",
    "  * sex: Sex\n",
    "  * age: Age\n",
    "  * sibsp: Number of siblings/spouses aboard\n",
    "  * parch: Number of parents/children aboard\n",
    "  * ticket: Ticket number\n",
    "  * fare: Passenger fare\n",
    "  * cabin: Cabin\n",
    "  * embarked: Port of embarkation (C = Cherbourg; Q = Queenstown; S = Southampton)\n",
    "  \n",
    "Your first decision will be whether data needs to standardized or not, and what are the relevant features for this model. My only advice is not to use `cabin` nor `ticket`."
   ]
  },
  {
   "cell_type": "code",
   "execution_count": 8,
   "metadata": {},
   "outputs": [],
   "source": [
    "del df['cabin']\n",
    "del df['ticket']"
   ]
  },
  {
   "cell_type": "markdown",
   "metadata": {},
   "source": [
    "If we take a look at the dataset, we will see that we have some null values that we have to take care of"
   ]
  },
  {
   "cell_type": "code",
   "execution_count": 9,
   "metadata": {},
   "outputs": [
    {
     "data": {
      "text/plain": [
       "pclass        1\n",
       "survived      1\n",
       "sex           1\n",
       "age         264\n",
       "sibsp         1\n",
       "parch         1\n",
       "fare          2\n",
       "embarked      3\n",
       "dtype: int64"
      ]
     },
     "execution_count": 9,
     "metadata": {},
     "output_type": "execute_result"
    }
   ],
   "source": [
    "df.isnull().sum()"
   ]
  },
  {
   "cell_type": "markdown",
   "metadata": {},
   "source": [
    "We will impute the missing age values by using the mean of the column"
   ]
  },
  {
   "cell_type": "code",
   "execution_count": 10,
   "metadata": {},
   "outputs": [
    {
     "name": "stdout",
     "output_type": "stream",
     "text": [
      "29.8811345124283\n"
     ]
    },
    {
     "data": {
      "text/plain": [
       "pclass      1\n",
       "survived    1\n",
       "sex         1\n",
       "age         0\n",
       "sibsp       1\n",
       "parch       1\n",
       "fare        2\n",
       "embarked    3\n",
       "dtype: int64"
      ]
     },
     "execution_count": 10,
     "metadata": {},
     "output_type": "execute_result"
    }
   ],
   "source": [
    "print(df[\"age\"].mean())\n",
    "df['age'] = df['age'].replace(np.nan, df[\"age\"].mean())\n",
    "df.isnull().sum()"
   ]
  },
  {
   "cell_type": "markdown",
   "metadata": {},
   "source": [
    "We will just remove the rest of them for the sake of simplicity"
   ]
  },
  {
   "cell_type": "code",
   "execution_count": 11,
   "metadata": {},
   "outputs": [
    {
     "data": {
      "text/plain": [
       "pclass      0\n",
       "survived    0\n",
       "sex         0\n",
       "age         0\n",
       "sibsp       0\n",
       "parch       0\n",
       "fare        0\n",
       "embarked    0\n",
       "dtype: int64"
      ]
     },
     "execution_count": 11,
     "metadata": {},
     "output_type": "execute_result"
    }
   ],
   "source": [
    "df.dropna(inplace=True)\n",
    "df.isnull().sum()"
   ]
  },
  {
   "cell_type": "markdown",
   "metadata": {},
   "source": [
    "We will now split the dataset in train and test"
   ]
  },
  {
   "cell_type": "markdown",
   "metadata": {},
   "source": [
    "As we are going to split the dataset several times in this practice, I have created the following function to take care of it.\n",
    "\n",
    "This function takes the original dataset, prepare the dataset and split it into train and test by using the [`train_test_split`](https://scikit-learn.org/stable/modules/generated/sklearn.model_selection.train_test_split.html) in sklearn. As you can read in the documentation of this function, the splitting is done randomly unless you set a seed (via the `random_state` parameter). This is something to be considered in your experimentation. If you care for reproducibility, you have to set this random_state, otherwise you will get a different splitting every time."
   ]
  },
  {
   "cell_type": "code",
   "execution_count": 37,
   "metadata": {},
   "outputs": [],
   "source": [
    "from sklearn.model_selection import train_test_split\n",
    "\n",
    "def split_df(dataframe, seed=None, percentage=0.8):\n",
    "    \n",
    "    X = dataframe.loc[:, dataframe.columns != 'survived']\n",
    "    y = dataframe['survived']\n",
    "\n",
    "    return train_test_split(X, y, test_size=1-percentage, random_state=seed)\n"
   ]
  },
  {
   "cell_type": "markdown",
   "metadata": {},
   "source": [
    "Check how by setting the random seed to a constant, we always get the same splitting"
   ]
  },
  {
   "cell_type": "code",
   "execution_count": 60,
   "metadata": {},
   "outputs": [],
   "source": [
    "X_train, X_test, y_train, y_test = split_df(df, seed=100)"
   ]
  },
  {
   "cell_type": "code",
   "execution_count": 56,
   "metadata": {},
   "outputs": [],
   "source": [
    "#Test performance with different data % splits by creating a dictionary and evaluating values with 5% splits of data\n",
    "performance = {}\n",
    "\n",
    "for i in range(60,100,4):\n",
    "    i = i/100\n",
    "    X_train, X_test, y_train, y_test = split_df(df, seed=100, percentage=i)\n",
    "    performance[i]=[{\"X_train\":X_train, \"X_test\":X_test,\"y_train\":y_train,\"y_test\":y_test  }]\n",
    "    \n"
   ]
  },
  {
   "cell_type": "markdown",
   "metadata": {},
   "source": [
    "# Modeling\n",
    "\n",
    "Our task is to predict if passenger survived or not. The simplest decision will be to use Logistic Regression. You must have already decided what are the relevant fields to use.\n",
    "\n",
    "The following code cells give you an idea on how to run the logistic regression, compute the true positive rate, false positive rate and a cost function associated with false positives and false negatives. "
   ]
  },
  {
   "cell_type": "code",
   "execution_count": 65,
   "metadata": {},
   "outputs": [
    {
     "data": {
      "text/html": [
       "<div>\n",
       "<style scoped>\n",
       "    .dataframe tbody tr th:only-of-type {\n",
       "        vertical-align: middle;\n",
       "    }\n",
       "\n",
       "    .dataframe tbody tr th {\n",
       "        vertical-align: top;\n",
       "    }\n",
       "\n",
       "    .dataframe thead th {\n",
       "        text-align: right;\n",
       "    }\n",
       "</style>\n",
       "<table border=\"1\" class=\"dataframe\">\n",
       "  <thead>\n",
       "    <tr style=\"text-align: right;\">\n",
       "      <th></th>\n",
       "      <th>survived</th>\n",
       "      <th>pred</th>\n",
       "    </tr>\n",
       "  </thead>\n",
       "  <tbody>\n",
       "    <tr>\n",
       "      <td>979</td>\n",
       "      <td>0.0</td>\n",
       "      <td>0.077033</td>\n",
       "    </tr>\n",
       "    <tr>\n",
       "      <td>401</td>\n",
       "      <td>1.0</td>\n",
       "      <td>0.794494</td>\n",
       "    </tr>\n",
       "    <tr>\n",
       "      <td>741</td>\n",
       "      <td>0.0</td>\n",
       "      <td>0.208219</td>\n",
       "    </tr>\n",
       "    <tr>\n",
       "      <td>1144</td>\n",
       "      <td>0.0</td>\n",
       "      <td>0.059930</td>\n",
       "    </tr>\n",
       "    <tr>\n",
       "      <td>866</td>\n",
       "      <td>1.0</td>\n",
       "      <td>0.755900</td>\n",
       "    </tr>\n",
       "  </tbody>\n",
       "</table>\n",
       "</div>"
      ],
      "text/plain": [
       "      survived      pred\n",
       "979        0.0  0.077033\n",
       "401        1.0  0.794494\n",
       "741        0.0  0.208219\n",
       "1144       0.0  0.059930\n",
       "866        1.0  0.755900"
      ]
     },
     "execution_count": 65,
     "metadata": {},
     "output_type": "execute_result"
    }
   ],
   "source": [
    "from sklearn import linear_model\n",
    "\n",
    "model = linear_model.LogisticRegression(max_iter=100, solver='liblinear')\n",
    "model.fit(X_train, y_train)\n",
    "\n",
    "# The predicted probabilities given to each sample in the test set. `predict_proba` gives you the probabilities of both classes, we take the probs of class 1 for simplicity.\n",
    "probs = model.predict_proba(X_test)[:,1]\n",
    "\n",
    "# The predictions in the form of a dataset to make manipulation easier. We put together here the actual 'labels' and the predicted 'probabilities'.\n",
    "predictions = pd.DataFrame({'survived':y_test, 'pred':probs})\n",
    "predictions.head()"
   ]
  },
  {
   "cell_type": "markdown",
   "metadata": {},
   "source": [
    "Our model gave us the probability of survival. However, our task was to predict the binary value survived or not. Therefore, we have to decide which threshold we use, such as if the probability of survival is larger than the threshold, we will predict that the passenger survived.\n",
    "\n",
    "Let's experiment with this threshold and check how it affects the model performance"
   ]
  },
  {
   "cell_type": "markdown",
   "metadata": {},
   "source": [
    "## The ROC Curve\n",
    "\n",
    "As explained in class, the ROC Curve is a great tool to inspect the overall model performance according to different threshold values. To better understand how it works, let's compute how model performs for a specific threshold to then extend the analysis to different thresholds.\n",
    "\n",
    "A first sensible value to try is 0.5. If the probability of survival, as predicted by our model, is larger than 50%, we will assume that the passenger survived. The following figure shows the resulting confusion matrix for this threshold"
   ]
  },
  {
   "cell_type": "code",
   "execution_count": 15,
   "metadata": {},
   "outputs": [
    {
     "data": {
      "image/png": "[encoded data removed]",
      "text/plain": [
       "<Figure size 432x288 with 2 Axes>"
      ]
     },
     "metadata": {
      "needs_background": "light"
     },
     "output_type": "display_data"
    }
   ],
   "source": [
    "from sklearn.metrics import confusion_matrix\n",
    "import seaborn as sn\n",
    "\n",
    "threshold = 0.5\n",
    "\n",
    "cm = confusion_matrix(predictions.survived, [pred>threshold for pred in predictions.pred])\n",
    "sn.heatmap(cm, annot=True, cmap=plt.cm.Blues);\n"
   ]
  },
  {
   "cell_type": "markdown",
   "metadata": {},
   "source": [
    "Not bad.\n",
    "\n",
    "The ROC is based on two metrics that we can extract from the Confusion Matrix: True Positive Rate and False Positive Rate"
   ]
  },
  {
   "cell_type": "markdown",
   "metadata": {},
   "source": [
    "Function to calculate the True positive rate."
   ]
  },
  {
   "cell_type": "code",
   "execution_count": 16,
   "metadata": {},
   "outputs": [],
   "source": [
    "def tpr(predictions, threshold):\n",
    "    cm = confusion_matrix(predictions.survived, [pred>threshold for pred in predictions.pred])\n",
    "    return cm[1,1]/sum(cm[1,:])"
   ]
  },
  {
   "cell_type": "code",
   "execution_count": 17,
   "metadata": {},
   "outputs": [
    {
     "name": "stdout",
     "output_type": "stream",
     "text": [
      "TPR = 0.6565656565656566\n"
     ]
    }
   ],
   "source": [
    "print(\"TPR = {}\".format(tpr(predictions, threshold)))"
   ]
  },
  {
   "cell_type": "markdown",
   "metadata": {},
   "source": [
    "Function to calculate the False positive rate."
   ]
  },
  {
   "cell_type": "code",
   "execution_count": 18,
   "metadata": {},
   "outputs": [],
   "source": [
    "def fpr(predictions, threshold):\n",
    "    cm = confusion_matrix(predictions.survived, [pred>threshold for pred in predictions.pred])\n",
    "    return cm[0,1]/sum(cm[0,:])"
   ]
  },
  {
   "cell_type": "code",
   "execution_count": 19,
   "metadata": {},
   "outputs": [
    {
     "name": "stdout",
     "output_type": "stream",
     "text": [
      "FPR = 0.09815950920245399\n"
     ]
    }
   ],
   "source": [
    "print(\"FPR = {}\".format(fpr(predictions, threshold)))"
   ]
  },
  {
   "cell_type": "markdown",
   "metadata": {},
   "source": [
    "Function to calculate the Cost for false positives and false negatives. You can play with the cost function to penalize whatever is more important in your business case."
   ]
  },
  {
   "cell_type": "code",
   "execution_count": 20,
   "metadata": {},
   "outputs": [],
   "source": [
    "def cost(predictions, threshold, fp_cost = 1, fn_cost=2):\n",
    "    cm = confusion_matrix(predictions.survived, [pred>threshold for pred in predictions.pred])\n",
    "    return cm[0,1] * fp_cost + cm[1,0] * fn_cost"
   ]
  },
  {
   "cell_type": "code",
   "execution_count": 21,
   "metadata": {},
   "outputs": [
    {
     "name": "stdout",
     "output_type": "stream",
     "text": [
      "Cost = 84\n"
     ]
    }
   ],
   "source": [
    "print(\"Cost = {}\".format(cost(predictions, threshold)))"
   ]
  },
  {
   "cell_type": "markdown",
   "metadata": {},
   "source": [
    "What we see as a result is the first raw conclusion without knowing if 0.5 is a good threshold. You can try different threshold values by changing the `threshold` value."
   ]
  },
  {
   "cell_type": "markdown",
   "metadata": {},
   "source": [
    "### Build the ROC\n",
    "\n",
    "A better way to understand the model performance for each threshold value as well as to understand the overall performance of the model is to create the ROC. sklearn provides a handy way of computing the TPR, FPR as well as of creating the ROC and computing the Area Under the Curve."
   ]
  },
  {
   "cell_type": "code",
   "execution_count": 22,
   "metadata": {},
   "outputs": [],
   "source": [
    "from sklearn.metrics import roc_curve, roc_auc_score\n",
    "\n",
    "fpr, tpr, thresholds = roc_curve(predictions.survived, predictions.pred)"
   ]
  },
  {
   "cell_type": "code",
   "execution_count": 23,
   "metadata": {},
   "outputs": [
    {
     "data": {
      "image/png": "[encoded data removed]",
      "text/plain": [
       "<Figure size 720x720 with 1 Axes>"
      ]
     },
     "metadata": {
      "needs_background": "light"
     },
     "output_type": "display_data"
    }
   ],
   "source": [
    "plt.figure(figsize=(10,10))\n",
    "plt.plot(fpr, tpr, marker='.')\n",
    "for x, y, txt in zip(fpr[::4], tpr[::4], thresholds[::4]):\n",
    "    plt.annotate(np.round(txt,2), (x, y-0.04))\n",
    "plt.plot(np.linspace(0,1,10), np.linspace(0,1,10), label=\"diagonal\")\n",
    "# axis labels\n",
    "plt.title('Logistic Regresion with AUC = {0:.4f}'.format(roc_auc_score(predictions.survived, predictions.pred)), fontsize = 20)\n",
    "plt.xlabel('False Positive Rate', fontsize=15)\n",
    "plt.ylabel('True Positive Rate', fontsize=15)\n",
    "# show the plot\n",
    "plt.show()\n",
    "\n"
   ]
  },
  {
   "cell_type": "markdown",
   "metadata": {},
   "source": [
    "## Double Density Plot\n",
    "\n",
    "In class I mentioned the Double Density Plot, an alternative to the ROC. There is no function to print this plot in sklearn, but you can easily do it with some Python coding"
   ]
  },
  {
   "cell_type": "code",
   "execution_count": 24,
   "metadata": {},
   "outputs": [],
   "source": [
    "from importlib import reload \n",
    "reload(plt);"
   ]
  },
  {
   "cell_type": "code",
   "execution_count": 25,
   "metadata": {},
   "outputs": [
    {
     "data": {
      "image/png": "[encoded data removed]",
      "text/plain": [
       "<Figure size 720x720 with 1 Axes>"
      ]
     },
     "metadata": {
      "needs_background": "light"
     },
     "output_type": "display_data"
    }
   ],
   "source": [
    "import seaborn as sns\n",
    "plt.figure(figsize=(10,10))\n",
    "plt.yticks([])\n",
    "plt.xlim((0, 1)) \n",
    "plt.xlabel(\"Survival Probability\", fontsize=16)\n",
    "plt.title(\"Double Density Plot\", fontsize=20)\n",
    "sns.distplot([p for label, p in predictions.values if label == 1.0], hist = False, kde = True, kde_kws = {'shade': True, 'linewidth': 3, 'kernel': 'gau'}, label = \"Survived\", color='Green')\n",
    "sns.distplot([p for label, p in predictions.values if label == 0.0], hist = False, kde = True, kde_kws = {'shade': True, 'linewidth': 3, 'kernel': 'gau'}, label = \"Not Survived\", color='Red');"
   ]
  },
  {
   "cell_type": "markdown",
   "metadata": {},
   "source": [
    "# Practice Goals\n",
    "\n",
    "Now you know how what features are relevant to your model, and how to measure your model's performance. But we can improve this a bit. Go through the steps below:\n",
    "\n",
    "  1. We have measured our model's performance against a single test-set. We're sure our model is the best possible model against that test-set, but we want to be sure, that is the best against any possible test set. To do that, please, measure how your model results change when using different test sets. To do that, simply start over the process at least 10 times with different splits of the full dataset into training and test. Result might differ, so illustrate that difference in performance. **(FUNDAMENTAL)**\n",
    "  2. Following with the approach of the previous step, let's go one step further, and apply cross-validation. This is, train your model against 60% of the data. Use another 20% cross-validation set to select the best possible threshold, and finally, measure the performance of that threshold selection against the remaining 20% test set (yet unseen to the model). **(FUNDAMENTAL)**\n",
    "  \n",
    "Good luck!"
   ]
  }
 ],
 "metadata": {
  "kernelspec": {
   "display_name": "Python 3",
   "language": "python",
   "name": "python3"
  },
  "language_info": {
   "codemirror_mode": {
    "name": "ipython",
    "version": 3
   },
   "file_extension": ".py",
   "mimetype": "text/x-python",
   "name": "python",
   "nbconvert_exporter": "python",
   "pygments_lexer": "ipython3",
   "version": "3.7.4"
  }
 },
 "nbformat": 4,
 "nbformat_minor": 4
}
